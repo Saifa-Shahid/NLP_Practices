{
 "cells": [
  {
   "cell_type": "code",
   "execution_count": 30,
   "metadata": {},
   "outputs": [
    {
     "name": "stdout",
     "output_type": "stream",
     "text": [
      "showing info https://raw.githubusercontent.com/nltk/nltk_data/gh-pages/index.xml\n"
     ]
    },
    {
     "data": {
      "text/plain": [
       "True"
      ]
     },
     "execution_count": 30,
     "metadata": {},
     "output_type": "execute_result"
    }
   ],
   "source": [
    "import nltk \n",
    "nltk.download()"
   ]
  },
  {
   "cell_type": "code",
   "execution_count": 31,
   "metadata": {},
   "outputs": [],
   "source": [
    "from nltk.corpus import wordnet as wn"
   ]
  },
  {
   "cell_type": "code",
   "execution_count": 59,
   "metadata": {},
   "outputs": [],
   "source": [
    "syns = wn.synsets(\"spoon\")"
   ]
  },
  {
   "cell_type": "code",
   "execution_count": 60,
   "metadata": {},
   "outputs": [
    {
     "name": "stdout",
     "output_type": "stream",
     "text": [
      "[Synset('spoon.n.01'), Synset('spoon.n.02'), Synset('spoon.n.03'), Synset('spoon.v.01'), Synset('smooch.v.01')]\n"
     ]
    }
   ],
   "source": [
    "#prints all the synonym from wordnet dictionary\n",
    "print(syns)"
   ]
  },
  {
   "cell_type": "code",
   "execution_count": 63,
   "metadata": {},
   "outputs": [
    {
     "name": "stdout",
     "output_type": "stream",
     "text": [
      "Synset('smooch.v.01')\n"
     ]
    }
   ],
   "source": [
    "#prints only the synonym word of the nth no word\n",
    "print(syns[4])"
   ]
  },
  {
   "cell_type": "code",
   "execution_count": null,
   "metadata": {},
   "outputs": [],
   "source": []
  },
  {
   "cell_type": "markdown",
   "metadata": {},
   "source": [
    "# a word with a broad meaning constituting a category into which words with more specific meanings fall; a superordinate, and A word of more specific meaning than a general or superordinate term applicable to it. For example, spoon is a hyponym of cutlery & colour is a hypernym of red. "
   ]
  },
  {
   "cell_type": "code",
   "execution_count": 66,
   "metadata": {},
   "outputs": [
    {
     "name": "stdout",
     "output_type": "stream",
     "text": [
      "[Synset('entity.n.01')]\n",
      "['container']\n"
     ]
    }
   ],
   "source": [
    "print(syns[0].root_hypernyms())\n",
    "print(syns[0].hypernyms()[0].lemma_names())"
   ]
  },
  {
   "cell_type": "code",
   "execution_count": 58,
   "metadata": {},
   "outputs": [
    {
     "name": "stdout",
     "output_type": "stream",
     "text": [
      "[Synset('queen_bee.n.01')]\n"
     ]
    }
   ],
   "source": [
    "print(syns[0].hyponyms())"
   ]
  },
  {
   "cell_type": "markdown",
   "metadata": {},
   "source": [
    "# definition, parts of speech"
   ]
  },
  {
   "cell_type": "code",
   "execution_count": 74,
   "metadata": {},
   "outputs": [
    {
     "name": "stdout",
     "output_type": "stream",
     "text": [
      "a piece of cutlery with a shallow bowl-shaped container and a handle; used to stir or serve or take up food\n"
     ]
    }
   ],
   "source": [
    "#prints nth no word's definition\n",
    "print(syns[0].definition())"
   ]
  },
  {
   "cell_type": "code",
   "execution_count": 75,
   "metadata": {},
   "outputs": [
    {
     "name": "stdout",
     "output_type": "stream",
     "text": [
      "n\n"
     ]
    }
   ],
   "source": [
    "#prints parts of speech of the word\n",
    "print(syns[0].pos())"
   ]
  },
  {
   "cell_type": "code",
   "execution_count": null,
   "metadata": {},
   "outputs": [],
   "source": []
  },
  {
   "cell_type": "code",
   "execution_count": null,
   "metadata": {},
   "outputs": [],
   "source": []
  },
  {
   "cell_type": "markdown",
   "metadata": {},
   "source": [
    "# (split/get)s string from the sentence and prints lists of synonyms for each string"
   ]
  },
  {
   "cell_type": "code",
   "execution_count": 76,
   "metadata": {},
   "outputs": [],
   "source": [
    "str = \"Action Adventure Drama\""
   ]
  },
  {
   "cell_type": "code",
   "execution_count": 77,
   "metadata": {},
   "outputs": [
    {
     "name": "stdout",
     "output_type": "stream",
     "text": [
      "give attendance\n"
     ]
    }
   ],
   "source": [
    "def listToString(str1):\n",
    "    str = \" \"\n",
    "    \n",
    "    return(str.join(str1))\n",
    "\n",
    "str1 = ['give', 'attendance']\n",
    "\n",
    "print(listToString(str1))"
   ]
  },
  {
   "cell_type": "code",
   "execution_count": 78,
   "metadata": {},
   "outputs": [
    {
     "name": "stdout",
     "output_type": "stream",
     "text": [
      "['action', 'action', 'activity', 'activeness', 'military_action', 'action', 'natural_process', 'natural_action', 'action', 'activity', 'action', 'action', 'action', 'action_mechanism', 'legal_action', 'action', 'action_at_law', 'action', 'action', 'action', 'sue', 'litigate', 'process', 'carry_through', 'accomplish', 'execute', 'carry_out', 'action', 'fulfill', 'fulfil']\n",
      "['adventure', 'escapade', 'risky_venture', 'dangerous_undertaking', 'gamble', 'chance', 'risk', 'hazard', 'take_chances', 'adventure', 'run_a_risk', 'take_a_chance', 'venture', 'hazard', 'adventure', 'stake', 'jeopardize']\n",
      "['play', 'drama', 'dramatic_play', 'drama', 'dramatic_event', 'drama', 'drama']\n"
     ]
    }
   ],
   "source": [
    "def process_genre(str):\n",
    "    for genre in str.split(\" \"):\n",
    "        result = []\n",
    "        for syn in wn.synsets(genre):\n",
    "            for l in syn.lemmas():\n",
    "                result.append(l.name())\n",
    "        print(result)\n",
    "process_genre(str)"
   ]
  },
  {
   "cell_type": "code",
   "execution_count": 79,
   "metadata": {},
   "outputs": [
    {
     "name": "stdout",
     "output_type": "stream",
     "text": [
      "['play', 'drama', 'dramatic_play', 'dramatic_event']\n"
     ]
    }
   ],
   "source": [
    "#manually\n",
    "\n",
    "synstr = []\n",
    "for syn in wn.synsets(\"drama\"):\n",
    "    for l in syn.lemmas():\n",
    "        synstr.append(l.name())\n",
    "synstr = list(dict.fromkeys(synstr))\n",
    "print(synstr)"
   ]
  },
  {
   "cell_type": "code",
   "execution_count": null,
   "metadata": {},
   "outputs": [],
   "source": []
  },
  {
   "cell_type": "code",
   "execution_count": null,
   "metadata": {},
   "outputs": [],
   "source": []
  },
  {
   "cell_type": "code",
   "execution_count": 18,
   "metadata": {},
   "outputs": [],
   "source": [
    "from nltk.corpus import wordnet"
   ]
  },
  {
   "cell_type": "code",
   "execution_count": 22,
   "metadata": {},
   "outputs": [],
   "source": [
    "def get_word_synonyms_from_sent(word,sent):\n",
    "    word_synonyms = []\n",
    "    for synset in wordnet.synsets(word):\n",
    "        for lemma in synset.lemma_names():\n",
    "            if lemma in sent and lemma != word:\n",
    "                word_synonyms.append(lemma)\n",
    "    return word_synonyms"
   ]
  },
  {
   "cell_type": "code",
   "execution_count": 23,
   "metadata": {},
   "outputs": [],
   "source": [
    "word = \"happy\"\n",
    "sent = ['I', 'am','glad','it','was','felicious','.']\n"
   ]
  },
  {
   "cell_type": "code",
   "execution_count": 24,
   "metadata": {},
   "outputs": [],
   "source": [
    "word_synonyms = get_word_synonyms_from_sent(word,sent)"
   ]
  },
  {
   "cell_type": "code",
   "execution_count": 27,
   "metadata": {},
   "outputs": [
    {
     "name": "stdout",
     "output_type": "stream",
     "text": [
      "Word:  happy\n",
      "Sentence:  ['I', 'am', 'glad', 'it', 'was', 'felicious', '.']\n"
     ]
    }
   ],
   "source": [
    "print('Word: ', word)\n",
    "print(\"Sentence: \", sent)"
   ]
  },
  {
   "cell_type": "code",
   "execution_count": 29,
   "metadata": {},
   "outputs": [
    {
     "name": "stdout",
     "output_type": "stream",
     "text": [
      "Synonyms for HAPPY Found in the sentence: glad\n"
     ]
    }
   ],
   "source": [
    "print(\"Synonyms for \" + word.upper() + \" Found in the sentence: \" + \",\".join(word_synonyms))"
   ]
  },
  {
   "cell_type": "code",
   "execution_count": null,
   "metadata": {},
   "outputs": [],
   "source": []
  },
  {
   "cell_type": "code",
   "execution_count": null,
   "metadata": {},
   "outputs": [],
   "source": []
  },
  {
   "cell_type": "markdown",
   "metadata": {},
   "source": [
    "# PyDictionary\n"
   ]
  },
  {
   "cell_type": "code",
   "execution_count": null,
   "metadata": {},
   "outputs": [],
   "source": []
  },
  {
   "cell_type": "code",
   "execution_count": 1,
   "metadata": {},
   "outputs": [
    {
     "name": "stdout",
     "output_type": "stream",
     "text": [
      "Requirement already satisfied: PyDictionary in c:\\users\\saifa\\anaconda3\\lib\\site-packages (2.0.1)\n",
      "Requirement already satisfied: requests in c:\\users\\saifa\\anaconda3\\lib\\site-packages (from PyDictionary) (2.24.0)\n",
      "Requirement already satisfied: goslate in c:\\users\\saifa\\anaconda3\\lib\\site-packages (from PyDictionary) (1.5.1)\n",
      "Requirement already satisfied: click in c:\\users\\saifa\\anaconda3\\lib\\site-packages (from PyDictionary) (7.1.2)\n",
      "Requirement already satisfied: bs4 in c:\\users\\saifa\\anaconda3\\lib\\site-packages (from PyDictionary) (0.0.1)\n",
      "Requirement already satisfied: urllib3!=1.25.0,!=1.25.1,<1.26,>=1.21.1 in c:\\users\\saifa\\anaconda3\\lib\\site-packages (from requests->PyDictionary) (1.25.9)\n",
      "Requirement already satisfied: certifi>=2017.4.17 in c:\\users\\saifa\\anaconda3\\lib\\site-packages (from requests->PyDictionary) (2020.6.20)\n",
      "Requirement already satisfied: idna<3,>=2.5 in c:\\users\\saifa\\anaconda3\\lib\\site-packages (from requests->PyDictionary) (2.10)\n",
      "Requirement already satisfied: chardet<4,>=3.0.2 in c:\\users\\saifa\\anaconda3\\lib\\site-packages (from requests->PyDictionary) (3.0.4)\n",
      "Requirement already satisfied: futures in c:\\users\\saifa\\anaconda3\\lib\\site-packages (from goslate->PyDictionary) (3.1.1)\n",
      "Requirement already satisfied: beautifulsoup4 in c:\\users\\saifa\\anaconda3\\lib\\site-packages (from bs4->PyDictionary) (4.9.1)\n",
      "Requirement already satisfied: soupsieve>1.2 in c:\\users\\saifa\\anaconda3\\lib\\site-packages (from beautifulsoup4->bs4->PyDictionary) (2.0.1)\n",
      "Note: you may need to restart the kernel to use updated packages.\n"
     ]
    }
   ],
   "source": [
    "pip install PyDictionary"
   ]
  },
  {
   "cell_type": "code",
   "execution_count": 2,
   "metadata": {},
   "outputs": [],
   "source": [
    "from PyDictionary import PyDictionary"
   ]
  },
  {
   "cell_type": "code",
   "execution_count": 3,
   "metadata": {},
   "outputs": [],
   "source": [
    "dictionary = PyDictionary()"
   ]
  },
  {
   "cell_type": "code",
   "execution_count": 4,
   "metadata": {},
   "outputs": [
    {
     "name": "stdout",
     "output_type": "stream",
     "text": [
      "{'Noun': ['the basis on which something is grounded', 'an institution supported by an endowment', 'lowest support of a structure', 'education or instruction in the fundamentals of a field of knowledge', 'the fundamental assumptions from which something is begun or developed or calculated or explained', \"a woman's undergarment worn to give shape to the contours of the body\", 'the act of starting something for the first time; introducing something new']}\n"
     ]
    }
   ],
   "source": [
    "print(dictionary.meaning(\"Foundation\"))"
   ]
  },
  {
   "cell_type": "code",
   "execution_count": 5,
   "metadata": {},
   "outputs": [
    {
     "name": "stdout",
     "output_type": "stream",
     "text": [
      "['relation', 'grass roots', 'footing', 'basis', 'ground']\n"
     ]
    }
   ],
   "source": [
    "print(dictionary.synonym(\"Foundation\"))"
   ]
  },
  {
   "cell_type": "code",
   "execution_count": 6,
   "metadata": {},
   "outputs": [
    {
     "name": "stdout",
     "output_type": "stream",
     "text": [
      "['disassembly', 'misconstruction', 'disallow', 'forbid', 'boycott']\n"
     ]
    }
   ],
   "source": [
    "print(dictionary.antonym(\"Foundation\"))"
   ]
  },
  {
   "cell_type": "code",
   "execution_count": 7,
   "metadata": {},
   "outputs": [
    {
     "name": "stdout",
     "output_type": "stream",
     "text": [
      "হ্যালো\n"
     ]
    }
   ],
   "source": [
    "print(dictionary.translate(\"hello\", \"bn\"))"
   ]
  },
  {
   "cell_type": "code",
   "execution_count": null,
   "metadata": {},
   "outputs": [],
   "source": []
  }
 ],
 "metadata": {
  "kernelspec": {
   "display_name": "Python 3",
   "language": "python",
   "name": "python3"
  },
  "language_info": {
   "codemirror_mode": {
    "name": "ipython",
    "version": 3
   },
   "file_extension": ".py",
   "mimetype": "text/x-python",
   "name": "python",
   "nbconvert_exporter": "python",
   "pygments_lexer": "ipython3",
   "version": "3.8.3"
  }
 },
 "nbformat": 4,
 "nbformat_minor": 2
}
