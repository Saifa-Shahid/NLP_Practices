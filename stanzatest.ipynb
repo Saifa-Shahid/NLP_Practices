{
 "cells": [
  {
   "cell_type": "code",
   "execution_count": 1,
   "metadata": {},
   "outputs": [
    {
     "name": "stdout",
     "output_type": "stream",
     "text": [
      "Requirement already satisfied: stanza in c:\\users\\saifa\\anaconda3\\lib\\site-packages (1.2)Note: you may need to restart the kernel to use updated packages.\n",
      "Requirement already satisfied: requests in c:\\users\\saifa\\anaconda3\\lib\\site-packages (from stanza) (2.24.0)\n",
      "Requirement already satisfied: numpy in c:\\users\\saifa\\anaconda3\\lib\\site-packages (from stanza) (1.19.5)\n",
      "Requirement already satisfied: tqdm in c:\\users\\saifa\\anaconda3\\lib\\site-packages (from stanza) (4.47.0)\n",
      "Requirement already satisfied: protobuf in c:\\users\\saifa\\anaconda3\\lib\\site-packages (from stanza) (3.14.0)\n",
      "Requirement already satisfied: torch>=1.3.0 in c:\\users\\saifa\\anaconda3\\lib\\site-packages (from stanza) (1.7.1)\n",
      "Requirement already satisfied: idna<3,>=2.5 in c:\\users\\saifa\\anaconda3\\lib\\site-packages (from requests->stanza) (2.10)\n",
      "Requirement already satisfied: chardet<4,>=3.0.2 in c:\\users\\saifa\\anaconda3\\lib\\site-packages (from requests->stanza) (3.0.4)\n",
      "Requirement already satisfied: urllib3!=1.25.0,!=1.25.1,<1.26,>=1.21.1 in c:\\users\\saifa\\anaconda3\\lib\\site-packages (from requests->stanza) (1.25.9)\n",
      "Requirement already satisfied: certifi>=2017.4.17 in c:\\users\\saifa\\anaconda3\\lib\\site-packages (from requests->stanza) (2020.6.20)\n",
      "Requirement already satisfied: six>=1.9 in c:\\users\\saifa\\appdata\\roaming\\python\\python38\\site-packages (from protobuf->stanza) (1.15.0)\n",
      "Requirement already satisfied: typing-extensions in c:\\users\\saifa\\anaconda3\\lib\\site-packages (from torch>=1.3.0->stanza) (3.7.4.2)\n",
      "\n"
     ]
    }
   ],
   "source": [
    "pip install stanza"
   ]
  },
  {
   "cell_type": "code",
   "execution_count": 2,
   "metadata": {},
   "outputs": [
    {
     "name": "stderr",
     "output_type": "stream",
     "text": [
      "Downloading https://raw.githubusercontent.com/stanfordnlp/stanza-resources/master/resources_1.2.0.json: 128kB [00:00, 10.7MB/s]\n",
      "2021-03-28 13:07:17 INFO: Downloading default packages for language: en (English)...\n",
      "Downloading http://nlp.stanford.edu/software/stanza/1.2.0/en/default.zip: 100%|█████| 411M/411M [05:50<00:00, 1.17MB/s]\n",
      "2021-03-28 13:13:20 INFO: Finished downloading models and saved to C:\\Users\\Saifa\\stanza_resources.\n"
     ]
    }
   ],
   "source": [
    "import stanza\n",
    "stanza.download('en')"
   ]
  },
  {
   "cell_type": "code",
   "execution_count": 12,
   "metadata": {},
   "outputs": [
    {
     "name": "stderr",
     "output_type": "stream",
     "text": [
      "2021-02-09 17:59:48 INFO: Loading these models for language: en (English):\n",
      "=========================\n",
      "| Processor | Package   |\n",
      "-------------------------\n",
      "| tokenize  | combined  |\n",
      "| pos       | combined  |\n",
      "| lemma     | combined  |\n",
      "| depparse  | combined  |\n",
      "| sentiment | sstplus   |\n",
      "| ner       | ontonotes |\n",
      "=========================\n",
      "\n",
      "2021-02-09 17:59:48 INFO: Use device: cpu\n",
      "2021-02-09 17:59:48 INFO: Loading: tokenize\n",
      "2021-02-09 17:59:48 INFO: Loading: pos\n",
      "2021-02-09 17:59:49 INFO: Loading: lemma\n",
      "2021-02-09 17:59:49 INFO: Loading: depparse\n",
      "2021-02-09 17:59:50 INFO: Loading: sentiment\n",
      "2021-02-09 17:59:50 INFO: Loading: ner\n",
      "2021-02-09 17:59:52 INFO: Done loading processors!\n"
     ]
    }
   ],
   "source": [
    "nlp = stanza.Pipeline('en')"
   ]
  },
  {
   "cell_type": "code",
   "execution_count": 13,
   "metadata": {},
   "outputs": [],
   "source": [
    "doc = nlp(\"Barak Obama was born in Hawaii. He was elected president in 2008.\")"
   ]
  },
  {
   "cell_type": "code",
   "execution_count": 14,
   "metadata": {},
   "outputs": [
    {
     "name": "stdout",
     "output_type": "stream",
     "text": [
      "('Barak', 4, 'nsubj:pass')\n",
      "('Obama', 1, 'flat')\n",
      "('was', 4, 'aux:pass')\n",
      "('born', 0, 'root')\n",
      "('in', 6, 'case')\n",
      "('Hawaii', 4, 'obl')\n",
      "('.', 4, 'punct')\n"
     ]
    }
   ],
   "source": [
    "doc.sentences[0].print_dependencies()"
   ]
  },
  {
   "cell_type": "code",
   "execution_count": null,
   "metadata": {},
   "outputs": [],
   "source": []
  }
 ],
 "metadata": {
  "kernelspec": {
   "display_name": "Python 3",
   "language": "python",
   "name": "python3"
  },
  "language_info": {
   "codemirror_mode": {
    "name": "ipython",
    "version": 3
   },
   "file_extension": ".py",
   "mimetype": "text/x-python",
   "name": "python",
   "nbconvert_exporter": "python",
   "pygments_lexer": "ipython3",
   "version": "3.8.3"
  }
 },
 "nbformat": 4,
 "nbformat_minor": 2
}
