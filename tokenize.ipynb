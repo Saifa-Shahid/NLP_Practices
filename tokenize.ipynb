{
 "cells": [
  {
   "cell_type": "code",
   "execution_count": 1,
   "metadata": {},
   "outputs": [
    {
     "name": "stdout",
     "output_type": "stream",
     "text": [
      "Requirement already satisfied: nltk in c:\\users\\saifa\\anaconda3\\lib\\site-packages (3.5)\n",
      "Requirement already satisfied: joblib in c:\\users\\saifa\\anaconda3\\lib\\site-packages (from nltk) (0.16.0)\n",
      "Requirement already satisfied: tqdm in c:\\users\\saifa\\anaconda3\\lib\\site-packages (from nltk) (4.47.0)\n",
      "Requirement already satisfied: click in c:\\users\\saifa\\anaconda3\\lib\\site-packages (from nltk) (7.1.2)\n",
      "Requirement already satisfied: regex in c:\\users\\saifa\\anaconda3\\lib\\site-packages (from nltk) (2020.6.8)\n",
      "Note: you may need to restart the kernel to use updated packages.\n"
     ]
    }
   ],
   "source": [
    "pip install nltk"
   ]
  },
  {
   "cell_type": "code",
   "execution_count": 14,
   "metadata": {},
   "outputs": [],
   "source": [
    "import nltk\n",
    "from nltk.tokenize import word_tokenize"
   ]
  },
  {
   "cell_type": "code",
   "execution_count": 15,
   "metadata": {},
   "outputs": [],
   "source": [
    "text = 'Asian shares skidded on Tuesday after a rout in tech stocks put Wall Street to the sword'"
   ]
  },
  {
   "cell_type": "code",
   "execution_count": 17,
   "metadata": {},
   "outputs": [
    {
     "data": {
      "text/plain": [
       "['Asian',\n",
       " 'shares',\n",
       " 'skidded',\n",
       " 'on',\n",
       " 'Tuesday',\n",
       " 'after',\n",
       " 'a',\n",
       " 'rout',\n",
       " 'in',\n",
       " 'tech',\n",
       " 'stocks',\n",
       " 'put',\n",
       " 'Wall',\n",
       " 'Street',\n",
       " 'to',\n",
       " 'the',\n",
       " 'sword']"
      ]
     },
     "execution_count": 17,
     "metadata": {},
     "output_type": "execute_result"
    }
   ],
   "source": [
    "def token(text):\n",
    "    state = word_tokenize(text)\n",
    "    return state\n",
    "token(text)"
   ]
  },
  {
   "cell_type": "code",
   "execution_count": 19,
   "metadata": {},
   "outputs": [
    {
     "data": {
      "text/plain": [
       "[('Asian', 'JJ'),\n",
       " ('shares', 'NNS'),\n",
       " ('skidded', 'VBN'),\n",
       " ('on', 'IN'),\n",
       " ('Tuesday', 'NNP'),\n",
       " ('after', 'IN'),\n",
       " ('a', 'DT'),\n",
       " ('rout', 'NN'),\n",
       " ('in', 'IN'),\n",
       " ('tech', 'JJ'),\n",
       " ('stocks', 'NNS'),\n",
       " ('put', 'VBD'),\n",
       " ('Wall', 'NNP'),\n",
       " ('Street', 'NNP'),\n",
       " ('to', 'TO'),\n",
       " ('the', 'DT'),\n",
       " ('sword', 'NN')]"
      ]
     },
     "execution_count": 19,
     "metadata": {},
     "output_type": "execute_result"
    }
   ],
   "source": [
    "def pos_tag(text):\n",
    "    pos = nltk.pos_tag(word_tokenize(text))\n",
    "    return pos\n",
    "pos_tag(text)"
   ]
  },
  {
   "cell_type": "code",
   "execution_count": 37,
   "metadata": {},
   "outputs": [
    {
     "data": {
      "text/plain": [
       "[('Asian', 'JJ'),\n",
       " ('shares', 'JJ'),\n",
       " ('skidded', 'JJ'),\n",
       " ('on', 'JJ'),\n",
       " ('Tuesday', 'JJ'),\n",
       " ('after', 'JJ'),\n",
       " ('a', 'JJ'),\n",
       " ('rout', 'JJ'),\n",
       " ('in', 'JJ'),\n",
       " ('tech', 'JJ'),\n",
       " ('stocks', 'JJ'),\n",
       " ('put', 'JJ'),\n",
       " ('Wall', 'JJ'),\n",
       " ('Street', 'JJ'),\n",
       " ('to', 'JJ'),\n",
       " ('the', 'JJ'),\n",
       " ('sword', 'JJ')]"
      ]
     },
     "execution_count": 37,
     "metadata": {},
     "output_type": "execute_result"
    }
   ],
   "source": [
    "from nltk.tag import DefaultTagger\n",
    "exptagger = DefaultTagger('JJ')\n",
    "exptagger.tag(word_tokenize(text))"
   ]
  },
  {
   "cell_type": "code",
   "execution_count": 38,
   "metadata": {},
   "outputs": [
    {
     "data": {
      "text/plain": [
       "0.05765955997547851"
      ]
     },
     "execution_count": 38,
     "metadata": {},
     "output_type": "execute_result"
    }
   ],
   "source": [
    "from nltk.corpus import treebank\n",
    "testsentences = treebank.tagged_sents()[500:]\n",
    "exptagger.evaluate(testsentences)"
   ]
  },
  {
   "cell_type": "code",
   "execution_count": 39,
   "metadata": {},
   "outputs": [
    {
     "data": {
      "text/plain": [
       "0.0579482696968493"
      ]
     },
     "execution_count": 39,
     "metadata": {},
     "output_type": "execute_result"
    }
   ],
   "source": [
    "from nltk.corpus import treebank\n",
    "testsentences = treebank.tagged_sents()\n",
    "exptagger.evaluate(testsentences)"
   ]
  },
  {
   "cell_type": "code",
   "execution_count": null,
   "metadata": {},
   "outputs": [],
   "source": []
  }
 ],
 "metadata": {
  "kernelspec": {
   "display_name": "Python 3",
   "language": "python",
   "name": "python3"
  },
  "language_info": {
   "codemirror_mode": {
    "name": "ipython",
    "version": 3
   },
   "file_extension": ".py",
   "mimetype": "text/x-python",
   "name": "python",
   "nbconvert_exporter": "python",
   "pygments_lexer": "ipython3",
   "version": "3.8.3"
  }
 },
 "nbformat": 4,
 "nbformat_minor": 2
}
